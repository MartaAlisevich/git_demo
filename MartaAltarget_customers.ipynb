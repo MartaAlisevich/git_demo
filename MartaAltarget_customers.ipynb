{
 "cells": [
  {
   "cell_type": "code",
   "execution_count": 1,
   "metadata": {
    "pycharm": {
     "name": "#%%\n"
    }
   },
   "outputs": [],
   "source": [
    "import pandas as pd\n",
    "import numpy as np\n",
    "import seaborn as sns\n",
    "import matplotlib.pyplot as plt\n"
   ]
  },
  {
   "cell_type": "code",
   "execution_count": 295,
   "metadata": {},
   "outputs": [],
   "source": [
    "import warnings\n",
    "warnings.filterwarnings(\"ignore\")"
   ]
  },
  {
   "cell_type": "code",
   "execution_count": 785,
   "metadata": {},
   "outputs": [],
   "source": [
    "import scipy.stats as stats\n",
    "from scipy.stats import norm"
   ]
  },
  {
   "cell_type": "code",
   "execution_count": 471,
   "metadata": {},
   "outputs": [
    {
     "data": {
      "text/html": [
       "<div>\n",
       "<style scoped>\n",
       "    .dataframe tbody tr th:only-of-type {\n",
       "        vertical-align: middle;\n",
       "    }\n",
       "\n",
       "    .dataframe tbody tr th {\n",
       "        vertical-align: top;\n",
       "    }\n",
       "\n",
       "    .dataframe thead th {\n",
       "        text-align: right;\n",
       "    }\n",
       "</style>\n",
       "<table border=\"1\" class=\"dataframe\">\n",
       "  <thead>\n",
       "    <tr style=\"text-align: right;\">\n",
       "      <th></th>\n",
       "      <th>ID</th>\n",
       "      <th>Building</th>\n",
       "      <th>Year of sale</th>\n",
       "      <th>Month of sale</th>\n",
       "      <th>Type of property</th>\n",
       "      <th>Property number</th>\n",
       "      <th>Area (ft.)</th>\n",
       "      <th>Price</th>\n",
       "      <th>Status</th>\n",
       "      <th>Customer ID</th>\n",
       "      <th>...</th>\n",
       "      <th>Y</th>\n",
       "      <th>M</th>\n",
       "      <th>D</th>\n",
       "      <th>Gender</th>\n",
       "      <th>Country</th>\n",
       "      <th>State</th>\n",
       "      <th>Purpose</th>\n",
       "      <th>Deal satisfaction</th>\n",
       "      <th>Mortgage</th>\n",
       "      <th>Source</th>\n",
       "    </tr>\n",
       "  </thead>\n",
       "  <tbody>\n",
       "    <tr>\n",
       "      <th>0</th>\n",
       "      <td>1030</td>\n",
       "      <td>1</td>\n",
       "      <td>2005</td>\n",
       "      <td>11</td>\n",
       "      <td>Apartment</td>\n",
       "      <td>30</td>\n",
       "      <td>743.09</td>\n",
       "      <td>$ 246,172.68</td>\n",
       "      <td>Sold</td>\n",
       "      <td>C0028</td>\n",
       "      <td>...</td>\n",
       "      <td>1986.0</td>\n",
       "      <td>6.0</td>\n",
       "      <td>21.0</td>\n",
       "      <td>F</td>\n",
       "      <td>USA</td>\n",
       "      <td>California</td>\n",
       "      <td>Home</td>\n",
       "      <td>5</td>\n",
       "      <td>No</td>\n",
       "      <td>Website</td>\n",
       "    </tr>\n",
       "    <tr>\n",
       "      <th>1</th>\n",
       "      <td>1029</td>\n",
       "      <td>1</td>\n",
       "      <td>2005</td>\n",
       "      <td>10</td>\n",
       "      <td>Apartment</td>\n",
       "      <td>29</td>\n",
       "      <td>756.21</td>\n",
       "      <td>$ 246,331.90</td>\n",
       "      <td>Sold</td>\n",
       "      <td>C0027</td>\n",
       "      <td>...</td>\n",
       "      <td>1983.0</td>\n",
       "      <td>2.0</td>\n",
       "      <td>24.0</td>\n",
       "      <td>F</td>\n",
       "      <td>USA</td>\n",
       "      <td>California</td>\n",
       "      <td>Home</td>\n",
       "      <td>5</td>\n",
       "      <td>No</td>\n",
       "      <td>Website</td>\n",
       "    </tr>\n",
       "    <tr>\n",
       "      <th>2</th>\n",
       "      <td>2002</td>\n",
       "      <td>2</td>\n",
       "      <td>2007</td>\n",
       "      <td>7</td>\n",
       "      <td>Apartment</td>\n",
       "      <td>2</td>\n",
       "      <td>587.28</td>\n",
       "      <td>$ 209,280.91</td>\n",
       "      <td>Sold</td>\n",
       "      <td>C0112</td>\n",
       "      <td>...</td>\n",
       "      <td>1985.0</td>\n",
       "      <td>12.0</td>\n",
       "      <td>27.0</td>\n",
       "      <td>M</td>\n",
       "      <td>USA</td>\n",
       "      <td>California</td>\n",
       "      <td>Home</td>\n",
       "      <td>1</td>\n",
       "      <td>Yes</td>\n",
       "      <td>Client</td>\n",
       "    </tr>\n",
       "    <tr>\n",
       "      <th>3</th>\n",
       "      <td>2031</td>\n",
       "      <td>2</td>\n",
       "      <td>2007</td>\n",
       "      <td>12</td>\n",
       "      <td>Apartment</td>\n",
       "      <td>31</td>\n",
       "      <td>1604.75</td>\n",
       "      <td>$ 452,667.01</td>\n",
       "      <td>Sold</td>\n",
       "      <td>C0160</td>\n",
       "      <td>...</td>\n",
       "      <td>1985.0</td>\n",
       "      <td>12.0</td>\n",
       "      <td>27.0</td>\n",
       "      <td>M</td>\n",
       "      <td>USA</td>\n",
       "      <td>California</td>\n",
       "      <td>Investment</td>\n",
       "      <td>3</td>\n",
       "      <td>Yes</td>\n",
       "      <td>Website</td>\n",
       "    </tr>\n",
       "    <tr>\n",
       "      <th>4</th>\n",
       "      <td>1049</td>\n",
       "      <td>1</td>\n",
       "      <td>2004</td>\n",
       "      <td>11</td>\n",
       "      <td>Apartment</td>\n",
       "      <td>49</td>\n",
       "      <td>1375.45</td>\n",
       "      <td>$ 467,083.31</td>\n",
       "      <td>Sold</td>\n",
       "      <td>C0014</td>\n",
       "      <td>...</td>\n",
       "      <td>1979.0</td>\n",
       "      <td>5.0</td>\n",
       "      <td>15.0</td>\n",
       "      <td>F</td>\n",
       "      <td>USA</td>\n",
       "      <td>California</td>\n",
       "      <td>Home</td>\n",
       "      <td>4</td>\n",
       "      <td>No</td>\n",
       "      <td>Agency</td>\n",
       "    </tr>\n",
       "    <tr>\n",
       "      <th>...</th>\n",
       "      <td>...</td>\n",
       "      <td>...</td>\n",
       "      <td>...</td>\n",
       "      <td>...</td>\n",
       "      <td>...</td>\n",
       "      <td>...</td>\n",
       "      <td>...</td>\n",
       "      <td>...</td>\n",
       "      <td>...</td>\n",
       "      <td>...</td>\n",
       "      <td>...</td>\n",
       "      <td>...</td>\n",
       "      <td>...</td>\n",
       "      <td>...</td>\n",
       "      <td>...</td>\n",
       "      <td>...</td>\n",
       "      <td>...</td>\n",
       "      <td>...</td>\n",
       "      <td>...</td>\n",
       "      <td>...</td>\n",
       "      <td>...</td>\n",
       "    </tr>\n",
       "    <tr>\n",
       "      <th>190</th>\n",
       "      <td>1022</td>\n",
       "      <td>1</td>\n",
       "      <td>2005</td>\n",
       "      <td>7</td>\n",
       "      <td>Apartment</td>\n",
       "      <td>22</td>\n",
       "      <td>743.09</td>\n",
       "      <td>$ 210,745.17</td>\n",
       "      <td>Sold</td>\n",
       "      <td>C0174</td>\n",
       "      <td>...</td>\n",
       "      <td>NaN</td>\n",
       "      <td>NaN</td>\n",
       "      <td>NaN</td>\n",
       "      <td>NaN</td>\n",
       "      <td>USA</td>\n",
       "      <td>California</td>\n",
       "      <td>Investment</td>\n",
       "      <td>5</td>\n",
       "      <td>No</td>\n",
       "      <td>Website</td>\n",
       "    </tr>\n",
       "    <tr>\n",
       "      <th>191</th>\n",
       "      <td>1028</td>\n",
       "      <td>1</td>\n",
       "      <td>2005</td>\n",
       "      <td>7</td>\n",
       "      <td>Apartment</td>\n",
       "      <td>28</td>\n",
       "      <td>1160.36</td>\n",
       "      <td>$ 331,154.88</td>\n",
       "      <td>Sold</td>\n",
       "      <td>C0174</td>\n",
       "      <td>...</td>\n",
       "      <td>NaN</td>\n",
       "      <td>NaN</td>\n",
       "      <td>NaN</td>\n",
       "      <td>NaN</td>\n",
       "      <td>USA</td>\n",
       "      <td>California</td>\n",
       "      <td>Investment</td>\n",
       "      <td>5</td>\n",
       "      <td>No</td>\n",
       "      <td>Website</td>\n",
       "    </tr>\n",
       "    <tr>\n",
       "      <th>192</th>\n",
       "      <td>1034</td>\n",
       "      <td>1</td>\n",
       "      <td>2005</td>\n",
       "      <td>7</td>\n",
       "      <td>Apartment</td>\n",
       "      <td>34</td>\n",
       "      <td>625.80</td>\n",
       "      <td>$ 204,434.68</td>\n",
       "      <td>Sold</td>\n",
       "      <td>C0174</td>\n",
       "      <td>...</td>\n",
       "      <td>NaN</td>\n",
       "      <td>NaN</td>\n",
       "      <td>NaN</td>\n",
       "      <td>NaN</td>\n",
       "      <td>USA</td>\n",
       "      <td>California</td>\n",
       "      <td>Investment</td>\n",
       "      <td>5</td>\n",
       "      <td>No</td>\n",
       "      <td>Website</td>\n",
       "    </tr>\n",
       "    <tr>\n",
       "      <th>193</th>\n",
       "      <td>1037</td>\n",
       "      <td>1</td>\n",
       "      <td>2005</td>\n",
       "      <td>7</td>\n",
       "      <td>Apartment</td>\n",
       "      <td>37</td>\n",
       "      <td>756.21</td>\n",
       "      <td>$ 189,194.31</td>\n",
       "      <td>Sold</td>\n",
       "      <td>C0174</td>\n",
       "      <td>...</td>\n",
       "      <td>NaN</td>\n",
       "      <td>NaN</td>\n",
       "      <td>NaN</td>\n",
       "      <td>NaN</td>\n",
       "      <td>USA</td>\n",
       "      <td>California</td>\n",
       "      <td>Investment</td>\n",
       "      <td>5</td>\n",
       "      <td>No</td>\n",
       "      <td>Website</td>\n",
       "    </tr>\n",
       "    <tr>\n",
       "      <th>194</th>\n",
       "      <td>1042</td>\n",
       "      <td>1</td>\n",
       "      <td>2005</td>\n",
       "      <td>7</td>\n",
       "      <td>Apartment</td>\n",
       "      <td>42</td>\n",
       "      <td>625.80</td>\n",
       "      <td>$ 204,027.09</td>\n",
       "      <td>Sold</td>\n",
       "      <td>C0174</td>\n",
       "      <td>...</td>\n",
       "      <td>NaN</td>\n",
       "      <td>NaN</td>\n",
       "      <td>NaN</td>\n",
       "      <td>NaN</td>\n",
       "      <td>USA</td>\n",
       "      <td>California</td>\n",
       "      <td>Investment</td>\n",
       "      <td>5</td>\n",
       "      <td>No</td>\n",
       "      <td>Website</td>\n",
       "    </tr>\n",
       "  </tbody>\n",
       "</table>\n",
       "<p>195 rows × 25 columns</p>\n",
       "</div>"
      ],
      "text/plain": [
       "       ID  Building  Year of sale  Month of sale Type of property  \\\n",
       "0    1030         1          2005             11        Apartment   \n",
       "1    1029         1          2005             10        Apartment   \n",
       "2    2002         2          2007              7        Apartment   \n",
       "3    2031         2          2007             12        Apartment   \n",
       "4    1049         1          2004             11        Apartment   \n",
       "..    ...       ...           ...            ...              ...   \n",
       "190  1022         1          2005              7        Apartment   \n",
       "191  1028         1          2005              7        Apartment   \n",
       "192  1034         1          2005              7        Apartment   \n",
       "193  1037         1          2005              7        Apartment   \n",
       "194  1042         1          2005              7        Apartment   \n",
       "\n",
       "     Property number  Area (ft.)           Price  Status Customer ID  ...  \\\n",
       "0                 30      743.09   $ 246,172.68    Sold        C0028  ...   \n",
       "1                 29      756.21   $ 246,331.90    Sold        C0027  ...   \n",
       "2                  2      587.28   $ 209,280.91    Sold        C0112  ...   \n",
       "3                 31     1604.75   $ 452,667.01    Sold        C0160  ...   \n",
       "4                 49     1375.45   $ 467,083.31    Sold        C0014  ...   \n",
       "..               ...         ...             ...     ...         ...  ...   \n",
       "190               22      743.09   $ 210,745.17    Sold        C0174  ...   \n",
       "191               28     1160.36   $ 331,154.88    Sold        C0174  ...   \n",
       "192               34      625.80   $ 204,434.68    Sold        C0174  ...   \n",
       "193               37      756.21   $ 189,194.31    Sold        C0174  ...   \n",
       "194               42      625.80   $ 204,027.09    Sold        C0174  ...   \n",
       "\n",
       "          Y     M     D  Gender Country       State     Purpose  \\\n",
       "0    1986.0   6.0  21.0       F     USA  California        Home   \n",
       "1    1983.0   2.0  24.0       F     USA  California        Home   \n",
       "2    1985.0  12.0  27.0       M     USA  California        Home   \n",
       "3    1985.0  12.0  27.0       M     USA  California  Investment   \n",
       "4    1979.0   5.0  15.0       F     USA  California        Home   \n",
       "..      ...   ...   ...     ...     ...         ...         ...   \n",
       "190     NaN   NaN   NaN     NaN    USA   California  Investment   \n",
       "191     NaN   NaN   NaN     NaN    USA   California  Investment   \n",
       "192     NaN   NaN   NaN     NaN    USA   California  Investment   \n",
       "193     NaN   NaN   NaN     NaN    USA   California  Investment   \n",
       "194     NaN   NaN   NaN     NaN    USA   California  Investment   \n",
       "\n",
       "     Deal satisfaction Mortgage   Source  \n",
       "0                    5       No  Website  \n",
       "1                    5       No  Website  \n",
       "2                    1      Yes   Client  \n",
       "3                    3      Yes  Website  \n",
       "4                    4       No   Agency  \n",
       "..                 ...      ...      ...  \n",
       "190                  5       No  Website  \n",
       "191                  5       No  Website  \n",
       "192                  5       No  Website  \n",
       "193                  5       No  Website  \n",
       "194                  5       No  Website  \n",
       "\n",
       "[195 rows x 25 columns]"
      ]
     },
     "execution_count": 471,
     "metadata": {},
     "output_type": "execute_result"
    }
   ],
   "source": [
    "df = pd.read_csv(\"D:\\kursi\\dz_2\\descriptive_stats\\clients.csv\")\n",
    "df"
   ]
  },
  {
   "cell_type": "markdown",
   "metadata": {},
   "source": [
    "## Предварительный анализ данных:"
   ]
  },
  {
   "cell_type": "code",
   "execution_count": 472,
   "metadata": {},
   "outputs": [
    {
     "data": {
      "text/html": [
       "<div>\n",
       "<style scoped>\n",
       "    .dataframe tbody tr th:only-of-type {\n",
       "        vertical-align: middle;\n",
       "    }\n",
       "\n",
       "    .dataframe tbody tr th {\n",
       "        vertical-align: top;\n",
       "    }\n",
       "\n",
       "    .dataframe thead th {\n",
       "        text-align: right;\n",
       "    }\n",
       "</style>\n",
       "<table border=\"1\" class=\"dataframe\">\n",
       "  <thead>\n",
       "    <tr style=\"text-align: right;\">\n",
       "      <th></th>\n",
       "      <th>ID</th>\n",
       "      <th>Building</th>\n",
       "      <th>Year of sale</th>\n",
       "      <th>Month of sale</th>\n",
       "      <th>Type of property</th>\n",
       "      <th>Property number</th>\n",
       "      <th>Area (ft.)</th>\n",
       "      <th>Price</th>\n",
       "      <th>Status</th>\n",
       "      <th>Customer ID</th>\n",
       "      <th>...</th>\n",
       "      <th>Y</th>\n",
       "      <th>M</th>\n",
       "      <th>D</th>\n",
       "      <th>Gender</th>\n",
       "      <th>Country</th>\n",
       "      <th>State</th>\n",
       "      <th>Purpose</th>\n",
       "      <th>Deal satisfaction</th>\n",
       "      <th>Mortgage</th>\n",
       "      <th>Source</th>\n",
       "    </tr>\n",
       "  </thead>\n",
       "  <tbody>\n",
       "    <tr>\n",
       "      <th>0</th>\n",
       "      <td>1030</td>\n",
       "      <td>1</td>\n",
       "      <td>2005</td>\n",
       "      <td>11</td>\n",
       "      <td>Apartment</td>\n",
       "      <td>30</td>\n",
       "      <td>743.09</td>\n",
       "      <td>$ 246,172.68</td>\n",
       "      <td>Sold</td>\n",
       "      <td>C0028</td>\n",
       "      <td>...</td>\n",
       "      <td>1986.0</td>\n",
       "      <td>6.0</td>\n",
       "      <td>21.0</td>\n",
       "      <td>F</td>\n",
       "      <td>USA</td>\n",
       "      <td>California</td>\n",
       "      <td>Home</td>\n",
       "      <td>5</td>\n",
       "      <td>No</td>\n",
       "      <td>Website</td>\n",
       "    </tr>\n",
       "    <tr>\n",
       "      <th>1</th>\n",
       "      <td>1029</td>\n",
       "      <td>1</td>\n",
       "      <td>2005</td>\n",
       "      <td>10</td>\n",
       "      <td>Apartment</td>\n",
       "      <td>29</td>\n",
       "      <td>756.21</td>\n",
       "      <td>$ 246,331.90</td>\n",
       "      <td>Sold</td>\n",
       "      <td>C0027</td>\n",
       "      <td>...</td>\n",
       "      <td>1983.0</td>\n",
       "      <td>2.0</td>\n",
       "      <td>24.0</td>\n",
       "      <td>F</td>\n",
       "      <td>USA</td>\n",
       "      <td>California</td>\n",
       "      <td>Home</td>\n",
       "      <td>5</td>\n",
       "      <td>No</td>\n",
       "      <td>Website</td>\n",
       "    </tr>\n",
       "    <tr>\n",
       "      <th>2</th>\n",
       "      <td>2002</td>\n",
       "      <td>2</td>\n",
       "      <td>2007</td>\n",
       "      <td>7</td>\n",
       "      <td>Apartment</td>\n",
       "      <td>2</td>\n",
       "      <td>587.28</td>\n",
       "      <td>$ 209,280.91</td>\n",
       "      <td>Sold</td>\n",
       "      <td>C0112</td>\n",
       "      <td>...</td>\n",
       "      <td>1985.0</td>\n",
       "      <td>12.0</td>\n",
       "      <td>27.0</td>\n",
       "      <td>M</td>\n",
       "      <td>USA</td>\n",
       "      <td>California</td>\n",
       "      <td>Home</td>\n",
       "      <td>1</td>\n",
       "      <td>Yes</td>\n",
       "      <td>Client</td>\n",
       "    </tr>\n",
       "    <tr>\n",
       "      <th>3</th>\n",
       "      <td>2031</td>\n",
       "      <td>2</td>\n",
       "      <td>2007</td>\n",
       "      <td>12</td>\n",
       "      <td>Apartment</td>\n",
       "      <td>31</td>\n",
       "      <td>1604.75</td>\n",
       "      <td>$ 452,667.01</td>\n",
       "      <td>Sold</td>\n",
       "      <td>C0160</td>\n",
       "      <td>...</td>\n",
       "      <td>1985.0</td>\n",
       "      <td>12.0</td>\n",
       "      <td>27.0</td>\n",
       "      <td>M</td>\n",
       "      <td>USA</td>\n",
       "      <td>California</td>\n",
       "      <td>Investment</td>\n",
       "      <td>3</td>\n",
       "      <td>Yes</td>\n",
       "      <td>Website</td>\n",
       "    </tr>\n",
       "    <tr>\n",
       "      <th>4</th>\n",
       "      <td>1049</td>\n",
       "      <td>1</td>\n",
       "      <td>2004</td>\n",
       "      <td>11</td>\n",
       "      <td>Apartment</td>\n",
       "      <td>49</td>\n",
       "      <td>1375.45</td>\n",
       "      <td>$ 467,083.31</td>\n",
       "      <td>Sold</td>\n",
       "      <td>C0014</td>\n",
       "      <td>...</td>\n",
       "      <td>1979.0</td>\n",
       "      <td>5.0</td>\n",
       "      <td>15.0</td>\n",
       "      <td>F</td>\n",
       "      <td>USA</td>\n",
       "      <td>California</td>\n",
       "      <td>Home</td>\n",
       "      <td>4</td>\n",
       "      <td>No</td>\n",
       "      <td>Agency</td>\n",
       "    </tr>\n",
       "    <tr>\n",
       "      <th>...</th>\n",
       "      <td>...</td>\n",
       "      <td>...</td>\n",
       "      <td>...</td>\n",
       "      <td>...</td>\n",
       "      <td>...</td>\n",
       "      <td>...</td>\n",
       "      <td>...</td>\n",
       "      <td>...</td>\n",
       "      <td>...</td>\n",
       "      <td>...</td>\n",
       "      <td>...</td>\n",
       "      <td>...</td>\n",
       "      <td>...</td>\n",
       "      <td>...</td>\n",
       "      <td>...</td>\n",
       "      <td>...</td>\n",
       "      <td>...</td>\n",
       "      <td>...</td>\n",
       "      <td>...</td>\n",
       "      <td>...</td>\n",
       "      <td>...</td>\n",
       "    </tr>\n",
       "    <tr>\n",
       "      <th>173</th>\n",
       "      <td>3040</td>\n",
       "      <td>3</td>\n",
       "      <td>2007</td>\n",
       "      <td>6</td>\n",
       "      <td>Apartment</td>\n",
       "      <td>40</td>\n",
       "      <td>670.89</td>\n",
       "      <td>$ 204,292.49</td>\n",
       "      <td>Sold</td>\n",
       "      <td>C0103</td>\n",
       "      <td>...</td>\n",
       "      <td>1936.0</td>\n",
       "      <td>8.0</td>\n",
       "      <td>13.0</td>\n",
       "      <td>M</td>\n",
       "      <td>USA</td>\n",
       "      <td>Oregon</td>\n",
       "      <td>Investment</td>\n",
       "      <td>2</td>\n",
       "      <td>No</td>\n",
       "      <td>Website</td>\n",
       "    </tr>\n",
       "    <tr>\n",
       "      <th>174</th>\n",
       "      <td>1023</td>\n",
       "      <td>1</td>\n",
       "      <td>2005</td>\n",
       "      <td>4</td>\n",
       "      <td>Apartment</td>\n",
       "      <td>23</td>\n",
       "      <td>782.25</td>\n",
       "      <td>$ 261,579.89</td>\n",
       "      <td>Sold</td>\n",
       "      <td>C0021</td>\n",
       "      <td>...</td>\n",
       "      <td>1932.0</td>\n",
       "      <td>6.0</td>\n",
       "      <td>13.0</td>\n",
       "      <td>F</td>\n",
       "      <td>Russia</td>\n",
       "      <td>NaN</td>\n",
       "      <td>Investment</td>\n",
       "      <td>3</td>\n",
       "      <td>No</td>\n",
       "      <td>Website</td>\n",
       "    </tr>\n",
       "    <tr>\n",
       "      <th>175</th>\n",
       "      <td>3009</td>\n",
       "      <td>3</td>\n",
       "      <td>2006</td>\n",
       "      <td>5</td>\n",
       "      <td>Apartment</td>\n",
       "      <td>9</td>\n",
       "      <td>743.41</td>\n",
       "      <td>$ 222,867.42</td>\n",
       "      <td>Sold</td>\n",
       "      <td>C0148</td>\n",
       "      <td>...</td>\n",
       "      <td>1933.0</td>\n",
       "      <td>5.0</td>\n",
       "      <td>5.0</td>\n",
       "      <td>F</td>\n",
       "      <td>USA</td>\n",
       "      <td>California</td>\n",
       "      <td>Investment</td>\n",
       "      <td>5</td>\n",
       "      <td>Yes</td>\n",
       "      <td>Agency</td>\n",
       "    </tr>\n",
       "    <tr>\n",
       "      <th>176</th>\n",
       "      <td>3052</td>\n",
       "      <td>3</td>\n",
       "      <td>2006</td>\n",
       "      <td>3</td>\n",
       "      <td>Apartment</td>\n",
       "      <td>52</td>\n",
       "      <td>923.21</td>\n",
       "      <td>$ 291,494.36</td>\n",
       "      <td>Sold</td>\n",
       "      <td>C0172</td>\n",
       "      <td>...</td>\n",
       "      <td>1933.0</td>\n",
       "      <td>6.0</td>\n",
       "      <td>8.0</td>\n",
       "      <td>M</td>\n",
       "      <td>USA</td>\n",
       "      <td>California</td>\n",
       "      <td>Home</td>\n",
       "      <td>4</td>\n",
       "      <td>Yes</td>\n",
       "      <td>Agency</td>\n",
       "    </tr>\n",
       "    <tr>\n",
       "      <th>177</th>\n",
       "      <td>3025</td>\n",
       "      <td>3</td>\n",
       "      <td>2007</td>\n",
       "      <td>6</td>\n",
       "      <td>Apartment</td>\n",
       "      <td>25</td>\n",
       "      <td>923.21</td>\n",
       "      <td>$ 296,483.14</td>\n",
       "      <td>Sold</td>\n",
       "      <td>C0104</td>\n",
       "      <td>...</td>\n",
       "      <td>1931.0</td>\n",
       "      <td>2.0</td>\n",
       "      <td>13.0</td>\n",
       "      <td>F</td>\n",
       "      <td>USA</td>\n",
       "      <td>Arizona</td>\n",
       "      <td>Home</td>\n",
       "      <td>3</td>\n",
       "      <td>No</td>\n",
       "      <td>Website</td>\n",
       "    </tr>\n",
       "  </tbody>\n",
       "</table>\n",
       "<p>178 rows × 25 columns</p>\n",
       "</div>"
      ],
      "text/plain": [
       "       ID  Building  Year of sale  Month of sale Type of property  \\\n",
       "0    1030         1          2005             11        Apartment   \n",
       "1    1029         1          2005             10        Apartment   \n",
       "2    2002         2          2007              7        Apartment   \n",
       "3    2031         2          2007             12        Apartment   \n",
       "4    1049         1          2004             11        Apartment   \n",
       "..    ...       ...           ...            ...              ...   \n",
       "173  3040         3          2007              6        Apartment   \n",
       "174  1023         1          2005              4        Apartment   \n",
       "175  3009         3          2006              5        Apartment   \n",
       "176  3052         3          2006              3        Apartment   \n",
       "177  3025         3          2007              6        Apartment   \n",
       "\n",
       "     Property number  Area (ft.)           Price  Status Customer ID  ...  \\\n",
       "0                 30      743.09   $ 246,172.68    Sold        C0028  ...   \n",
       "1                 29      756.21   $ 246,331.90    Sold        C0027  ...   \n",
       "2                  2      587.28   $ 209,280.91    Sold        C0112  ...   \n",
       "3                 31     1604.75   $ 452,667.01    Sold        C0160  ...   \n",
       "4                 49     1375.45   $ 467,083.31    Sold        C0014  ...   \n",
       "..               ...         ...             ...     ...         ...  ...   \n",
       "173               40      670.89   $ 204,292.49    Sold        C0103  ...   \n",
       "174               23      782.25   $ 261,579.89    Sold        C0021  ...   \n",
       "175                9      743.41   $ 222,867.42    Sold        C0148  ...   \n",
       "176               52      923.21   $ 291,494.36    Sold        C0172  ...   \n",
       "177               25      923.21   $ 296,483.14    Sold        C0104  ...   \n",
       "\n",
       "          Y     M     D  Gender Country       State     Purpose  \\\n",
       "0    1986.0   6.0  21.0       F     USA  California        Home   \n",
       "1    1983.0   2.0  24.0       F     USA  California        Home   \n",
       "2    1985.0  12.0  27.0       M     USA  California        Home   \n",
       "3    1985.0  12.0  27.0       M     USA  California  Investment   \n",
       "4    1979.0   5.0  15.0       F     USA  California        Home   \n",
       "..      ...   ...   ...     ...     ...         ...         ...   \n",
       "173  1936.0   8.0  13.0       M     USA      Oregon  Investment   \n",
       "174  1932.0   6.0  13.0       F  Russia         NaN  Investment   \n",
       "175  1933.0   5.0   5.0       F     USA  California  Investment   \n",
       "176  1933.0   6.0   8.0       M     USA  California        Home   \n",
       "177  1931.0   2.0  13.0       F     USA     Arizona        Home   \n",
       "\n",
       "     Deal satisfaction Mortgage   Source  \n",
       "0                    5       No  Website  \n",
       "1                    5       No  Website  \n",
       "2                    1      Yes   Client  \n",
       "3                    3      Yes  Website  \n",
       "4                    4       No   Agency  \n",
       "..                 ...      ...      ...  \n",
       "173                  2       No  Website  \n",
       "174                  3       No  Website  \n",
       "175                  5      Yes   Agency  \n",
       "176                  4      Yes   Agency  \n",
       "177                  3       No  Website  \n",
       "\n",
       "[178 rows x 25 columns]"
      ]
     },
     "execution_count": 472,
     "metadata": {},
     "output_type": "execute_result"
    }
   ],
   "source": [
    "#избавляемся от nan \n",
    "data = df.drop(df[df['Entity']=='Firm'].index)\n",
    "data"
   ]
  },
  {
   "cell_type": "code",
   "execution_count": 473,
   "metadata": {},
   "outputs": [],
   "source": [
    "data = data.fillna({'State':0})\n",
    "#так как это не USA, штатов нет, значение поставим 0"
   ]
  },
  {
   "cell_type": "code",
   "execution_count": 474,
   "metadata": {},
   "outputs": [
    {
     "data": {
      "text/html": [
       "<div>\n",
       "<style scoped>\n",
       "    .dataframe tbody tr th:only-of-type {\n",
       "        vertical-align: middle;\n",
       "    }\n",
       "\n",
       "    .dataframe tbody tr th {\n",
       "        vertical-align: top;\n",
       "    }\n",
       "\n",
       "    .dataframe thead th {\n",
       "        text-align: right;\n",
       "    }\n",
       "</style>\n",
       "<table border=\"1\" class=\"dataframe\">\n",
       "  <thead>\n",
       "    <tr style=\"text-align: right;\">\n",
       "      <th></th>\n",
       "      <th>id</th>\n",
       "      <th>building</th>\n",
       "      <th>year_of_sale</th>\n",
       "      <th>month_of_sale</th>\n",
       "      <th>type_of_property</th>\n",
       "      <th>property_number</th>\n",
       "      <th>area(ft.)</th>\n",
       "      <th>price</th>\n",
       "      <th>status</th>\n",
       "      <th>customer_id</th>\n",
       "      <th>...</th>\n",
       "      <th>year</th>\n",
       "      <th>month</th>\n",
       "      <th>day</th>\n",
       "      <th>gender</th>\n",
       "      <th>country</th>\n",
       "      <th>state</th>\n",
       "      <th>purpose</th>\n",
       "      <th>deal_satisfaction</th>\n",
       "      <th>mortgage</th>\n",
       "      <th>source</th>\n",
       "    </tr>\n",
       "  </thead>\n",
       "  <tbody>\n",
       "    <tr>\n",
       "      <th>0</th>\n",
       "      <td>1030</td>\n",
       "      <td>1</td>\n",
       "      <td>2005</td>\n",
       "      <td>11</td>\n",
       "      <td>Apartment</td>\n",
       "      <td>30</td>\n",
       "      <td>743.09</td>\n",
       "      <td>$ 246,172.68</td>\n",
       "      <td>Sold</td>\n",
       "      <td>C0028</td>\n",
       "      <td>...</td>\n",
       "      <td>1986.0</td>\n",
       "      <td>6.0</td>\n",
       "      <td>21.0</td>\n",
       "      <td>F</td>\n",
       "      <td>USA</td>\n",
       "      <td>California</td>\n",
       "      <td>Home</td>\n",
       "      <td>5</td>\n",
       "      <td>No</td>\n",
       "      <td>Website</td>\n",
       "    </tr>\n",
       "    <tr>\n",
       "      <th>1</th>\n",
       "      <td>1029</td>\n",
       "      <td>1</td>\n",
       "      <td>2005</td>\n",
       "      <td>10</td>\n",
       "      <td>Apartment</td>\n",
       "      <td>29</td>\n",
       "      <td>756.21</td>\n",
       "      <td>$ 246,331.90</td>\n",
       "      <td>Sold</td>\n",
       "      <td>C0027</td>\n",
       "      <td>...</td>\n",
       "      <td>1983.0</td>\n",
       "      <td>2.0</td>\n",
       "      <td>24.0</td>\n",
       "      <td>F</td>\n",
       "      <td>USA</td>\n",
       "      <td>California</td>\n",
       "      <td>Home</td>\n",
       "      <td>5</td>\n",
       "      <td>No</td>\n",
       "      <td>Website</td>\n",
       "    </tr>\n",
       "    <tr>\n",
       "      <th>2</th>\n",
       "      <td>2002</td>\n",
       "      <td>2</td>\n",
       "      <td>2007</td>\n",
       "      <td>7</td>\n",
       "      <td>Apartment</td>\n",
       "      <td>2</td>\n",
       "      <td>587.28</td>\n",
       "      <td>$ 209,280.91</td>\n",
       "      <td>Sold</td>\n",
       "      <td>C0112</td>\n",
       "      <td>...</td>\n",
       "      <td>1985.0</td>\n",
       "      <td>12.0</td>\n",
       "      <td>27.0</td>\n",
       "      <td>M</td>\n",
       "      <td>USA</td>\n",
       "      <td>California</td>\n",
       "      <td>Home</td>\n",
       "      <td>1</td>\n",
       "      <td>Yes</td>\n",
       "      <td>Client</td>\n",
       "    </tr>\n",
       "    <tr>\n",
       "      <th>3</th>\n",
       "      <td>2031</td>\n",
       "      <td>2</td>\n",
       "      <td>2007</td>\n",
       "      <td>12</td>\n",
       "      <td>Apartment</td>\n",
       "      <td>31</td>\n",
       "      <td>1604.75</td>\n",
       "      <td>$ 452,667.01</td>\n",
       "      <td>Sold</td>\n",
       "      <td>C0160</td>\n",
       "      <td>...</td>\n",
       "      <td>1985.0</td>\n",
       "      <td>12.0</td>\n",
       "      <td>27.0</td>\n",
       "      <td>M</td>\n",
       "      <td>USA</td>\n",
       "      <td>California</td>\n",
       "      <td>Investment</td>\n",
       "      <td>3</td>\n",
       "      <td>Yes</td>\n",
       "      <td>Website</td>\n",
       "    </tr>\n",
       "    <tr>\n",
       "      <th>4</th>\n",
       "      <td>1049</td>\n",
       "      <td>1</td>\n",
       "      <td>2004</td>\n",
       "      <td>11</td>\n",
       "      <td>Apartment</td>\n",
       "      <td>49</td>\n",
       "      <td>1375.45</td>\n",
       "      <td>$ 467,083.31</td>\n",
       "      <td>Sold</td>\n",
       "      <td>C0014</td>\n",
       "      <td>...</td>\n",
       "      <td>1979.0</td>\n",
       "      <td>5.0</td>\n",
       "      <td>15.0</td>\n",
       "      <td>F</td>\n",
       "      <td>USA</td>\n",
       "      <td>California</td>\n",
       "      <td>Home</td>\n",
       "      <td>4</td>\n",
       "      <td>No</td>\n",
       "      <td>Agency</td>\n",
       "    </tr>\n",
       "    <tr>\n",
       "      <th>...</th>\n",
       "      <td>...</td>\n",
       "      <td>...</td>\n",
       "      <td>...</td>\n",
       "      <td>...</td>\n",
       "      <td>...</td>\n",
       "      <td>...</td>\n",
       "      <td>...</td>\n",
       "      <td>...</td>\n",
       "      <td>...</td>\n",
       "      <td>...</td>\n",
       "      <td>...</td>\n",
       "      <td>...</td>\n",
       "      <td>...</td>\n",
       "      <td>...</td>\n",
       "      <td>...</td>\n",
       "      <td>...</td>\n",
       "      <td>...</td>\n",
       "      <td>...</td>\n",
       "      <td>...</td>\n",
       "      <td>...</td>\n",
       "      <td>...</td>\n",
       "    </tr>\n",
       "    <tr>\n",
       "      <th>173</th>\n",
       "      <td>3040</td>\n",
       "      <td>3</td>\n",
       "      <td>2007</td>\n",
       "      <td>6</td>\n",
       "      <td>Apartment</td>\n",
       "      <td>40</td>\n",
       "      <td>670.89</td>\n",
       "      <td>$ 204,292.49</td>\n",
       "      <td>Sold</td>\n",
       "      <td>C0103</td>\n",
       "      <td>...</td>\n",
       "      <td>1936.0</td>\n",
       "      <td>8.0</td>\n",
       "      <td>13.0</td>\n",
       "      <td>M</td>\n",
       "      <td>USA</td>\n",
       "      <td>Oregon</td>\n",
       "      <td>Investment</td>\n",
       "      <td>2</td>\n",
       "      <td>No</td>\n",
       "      <td>Website</td>\n",
       "    </tr>\n",
       "    <tr>\n",
       "      <th>174</th>\n",
       "      <td>1023</td>\n",
       "      <td>1</td>\n",
       "      <td>2005</td>\n",
       "      <td>4</td>\n",
       "      <td>Apartment</td>\n",
       "      <td>23</td>\n",
       "      <td>782.25</td>\n",
       "      <td>$ 261,579.89</td>\n",
       "      <td>Sold</td>\n",
       "      <td>C0021</td>\n",
       "      <td>...</td>\n",
       "      <td>1932.0</td>\n",
       "      <td>6.0</td>\n",
       "      <td>13.0</td>\n",
       "      <td>F</td>\n",
       "      <td>Russia</td>\n",
       "      <td>0</td>\n",
       "      <td>Investment</td>\n",
       "      <td>3</td>\n",
       "      <td>No</td>\n",
       "      <td>Website</td>\n",
       "    </tr>\n",
       "    <tr>\n",
       "      <th>175</th>\n",
       "      <td>3009</td>\n",
       "      <td>3</td>\n",
       "      <td>2006</td>\n",
       "      <td>5</td>\n",
       "      <td>Apartment</td>\n",
       "      <td>9</td>\n",
       "      <td>743.41</td>\n",
       "      <td>$ 222,867.42</td>\n",
       "      <td>Sold</td>\n",
       "      <td>C0148</td>\n",
       "      <td>...</td>\n",
       "      <td>1933.0</td>\n",
       "      <td>5.0</td>\n",
       "      <td>5.0</td>\n",
       "      <td>F</td>\n",
       "      <td>USA</td>\n",
       "      <td>California</td>\n",
       "      <td>Investment</td>\n",
       "      <td>5</td>\n",
       "      <td>Yes</td>\n",
       "      <td>Agency</td>\n",
       "    </tr>\n",
       "    <tr>\n",
       "      <th>176</th>\n",
       "      <td>3052</td>\n",
       "      <td>3</td>\n",
       "      <td>2006</td>\n",
       "      <td>3</td>\n",
       "      <td>Apartment</td>\n",
       "      <td>52</td>\n",
       "      <td>923.21</td>\n",
       "      <td>$ 291,494.36</td>\n",
       "      <td>Sold</td>\n",
       "      <td>C0172</td>\n",
       "      <td>...</td>\n",
       "      <td>1933.0</td>\n",
       "      <td>6.0</td>\n",
       "      <td>8.0</td>\n",
       "      <td>M</td>\n",
       "      <td>USA</td>\n",
       "      <td>California</td>\n",
       "      <td>Home</td>\n",
       "      <td>4</td>\n",
       "      <td>Yes</td>\n",
       "      <td>Agency</td>\n",
       "    </tr>\n",
       "    <tr>\n",
       "      <th>177</th>\n",
       "      <td>3025</td>\n",
       "      <td>3</td>\n",
       "      <td>2007</td>\n",
       "      <td>6</td>\n",
       "      <td>Apartment</td>\n",
       "      <td>25</td>\n",
       "      <td>923.21</td>\n",
       "      <td>$ 296,483.14</td>\n",
       "      <td>Sold</td>\n",
       "      <td>C0104</td>\n",
       "      <td>...</td>\n",
       "      <td>1931.0</td>\n",
       "      <td>2.0</td>\n",
       "      <td>13.0</td>\n",
       "      <td>F</td>\n",
       "      <td>USA</td>\n",
       "      <td>Arizona</td>\n",
       "      <td>Home</td>\n",
       "      <td>3</td>\n",
       "      <td>No</td>\n",
       "      <td>Website</td>\n",
       "    </tr>\n",
       "  </tbody>\n",
       "</table>\n",
       "<p>178 rows × 25 columns</p>\n",
       "</div>"
      ],
      "text/plain": [
       "       id  building  year_of_sale  month_of_sale type_of_property  \\\n",
       "0    1030         1          2005             11        Apartment   \n",
       "1    1029         1          2005             10        Apartment   \n",
       "2    2002         2          2007              7        Apartment   \n",
       "3    2031         2          2007             12        Apartment   \n",
       "4    1049         1          2004             11        Apartment   \n",
       "..    ...       ...           ...            ...              ...   \n",
       "173  3040         3          2007              6        Apartment   \n",
       "174  1023         1          2005              4        Apartment   \n",
       "175  3009         3          2006              5        Apartment   \n",
       "176  3052         3          2006              3        Apartment   \n",
       "177  3025         3          2007              6        Apartment   \n",
       "\n",
       "     property_number  area(ft.)           price  status customer_id  ...  \\\n",
       "0                 30     743.09   $ 246,172.68    Sold        C0028  ...   \n",
       "1                 29     756.21   $ 246,331.90    Sold        C0027  ...   \n",
       "2                  2     587.28   $ 209,280.91    Sold        C0112  ...   \n",
       "3                 31    1604.75   $ 452,667.01    Sold        C0160  ...   \n",
       "4                 49    1375.45   $ 467,083.31    Sold        C0014  ...   \n",
       "..               ...        ...             ...     ...         ...  ...   \n",
       "173               40     670.89   $ 204,292.49    Sold        C0103  ...   \n",
       "174               23     782.25   $ 261,579.89    Sold        C0021  ...   \n",
       "175                9     743.41   $ 222,867.42    Sold        C0148  ...   \n",
       "176               52     923.21   $ 291,494.36    Sold        C0172  ...   \n",
       "177               25     923.21   $ 296,483.14    Sold        C0104  ...   \n",
       "\n",
       "       year month   day  gender country       state     purpose  \\\n",
       "0    1986.0   6.0  21.0       F     USA  California        Home   \n",
       "1    1983.0   2.0  24.0       F     USA  California        Home   \n",
       "2    1985.0  12.0  27.0       M     USA  California        Home   \n",
       "3    1985.0  12.0  27.0       M     USA  California  Investment   \n",
       "4    1979.0   5.0  15.0       F     USA  California        Home   \n",
       "..      ...   ...   ...     ...     ...         ...         ...   \n",
       "173  1936.0   8.0  13.0       M     USA      Oregon  Investment   \n",
       "174  1932.0   6.0  13.0       F  Russia           0  Investment   \n",
       "175  1933.0   5.0   5.0       F     USA  California  Investment   \n",
       "176  1933.0   6.0   8.0       M     USA  California        Home   \n",
       "177  1931.0   2.0  13.0       F     USA     Arizona        Home   \n",
       "\n",
       "     deal_satisfaction mortgage   source  \n",
       "0                    5       No  Website  \n",
       "1                    5       No  Website  \n",
       "2                    1      Yes   Client  \n",
       "3                    3      Yes  Website  \n",
       "4                    4       No   Agency  \n",
       "..                 ...      ...      ...  \n",
       "173                  2       No  Website  \n",
       "174                  3       No  Website  \n",
       "175                  5      Yes   Agency  \n",
       "176                  4      Yes   Agency  \n",
       "177                  3       No  Website  \n",
       "\n",
       "[178 rows x 25 columns]"
      ]
     },
     "execution_count": 474,
     "metadata": {},
     "output_type": "execute_result"
    }
   ],
   "source": [
    "#переименуем для удобности, избавясь от заглавных букв и пробелов\n",
    "data = data.rename(columns=lambda i: i.lower().strip().replace(\" \", \"_\"))\\\n",
    ".rename(columns={'y':'year', 'm':'month', 'd':'day', 'area_(ft.)': 'area(ft.)'})\n",
    "data"
   ]
  },
  {
   "cell_type": "code",
   "execution_count": 475,
   "metadata": {},
   "outputs": [
    {
     "data": {
      "text/plain": [
       "id                           int64\n",
       "building                     int64\n",
       "year_of_sale                 int64\n",
       "month_of_sale                int64\n",
       "type_of_property            object\n",
       "property_number              int64\n",
       "area(ft.)                  float64\n",
       "price                       object\n",
       "status                      object\n",
       "customer_id                 object\n",
       "entity                      object\n",
       "name                        object\n",
       "surname                     object\n",
       "age_at_time_of_purchase    float64\n",
       "age_interval                object\n",
       "year                       float64\n",
       "month                      float64\n",
       "day                        float64\n",
       "gender                      object\n",
       "country                     object\n",
       "state                       object\n",
       "purpose                     object\n",
       "deal_satisfaction            int64\n",
       "mortgage                    object\n",
       "source                      object\n",
       "dtype: object"
      ]
     },
     "execution_count": 475,
     "metadata": {},
     "output_type": "execute_result"
    }
   ],
   "source": [
    "#посмотрим на типы данных\n",
    "data.dtypes"
   ]
  },
  {
   "cell_type": "code",
   "execution_count": 476,
   "metadata": {},
   "outputs": [],
   "source": [
    "#преобразуем значения столбца цены\n",
    "data.price = data.price.apply(lambda x: x.replace('$', \"\").replace(\",\", \"\"))"
   ]
  },
  {
   "cell_type": "code",
   "execution_count": 477,
   "metadata": {},
   "outputs": [
    {
     "data": {
      "text/plain": [
       "array([ 6.,  2., 12.,  5.,  8.,  9.,  1.,  3., 10.,  7.,  4., 11., 15.])"
      ]
     },
     "execution_count": 477,
     "metadata": {},
     "output_type": "execute_result"
    }
   ],
   "source": [
    "#проверка уникальных значений\n",
    "#data.year.unique()\n",
    "#data.day.unique()\n",
    "data.month.unique()"
   ]
  },
  {
   "cell_type": "code",
   "execution_count": 482,
   "metadata": {},
   "outputs": [
    {
     "data": {
      "text/plain": [
       "3"
      ]
     },
     "execution_count": 482,
     "metadata": {},
     "output_type": "execute_result"
    }
   ],
   "source": [
    "#убираем 15 месяц, который выявился в ходе проверки уникальных значений датафрейма, представим что опечатались, и это 3 месяц(15=12+3)140 строка\n",
    "data.month.loc[data.month==15]=3"
   ]
  },
  {
   "cell_type": "code",
   "execution_count": 479,
   "metadata": {},
   "outputs": [],
   "source": [
    "#поменяем типы данных\n",
    "data = data.astype({'price': \"float\", 'year': \"int\",'day': \"int\", 'month': \"int\", 'age_at_time_of_purchase': \"int\"})\n",
    "data[\"full_date\"] = pd.to_datetime(data[['month', 'day', 'year']])"
   ]
  },
  {
   "cell_type": "code",
   "execution_count": 480,
   "metadata": {},
   "outputs": [],
   "source": [
    "#Преобразуем колонки с булевыми значениями\n",
    "data.gender = data.gender.map({\"F\":1, \"M\":0})\n",
    "data.mortgage = data.mortgage.map({\"Yes\":1, \"No\":0})"
   ]
  },
  {
   "cell_type": "markdown",
   "metadata": {},
   "source": [
    "## Приступаем к графическому анализу:"
   ]
  },
  {
   "cell_type": "markdown",
   "metadata": {},
   "source": [
    "### посмотрим на распреление клиентов по полу:"
   ]
  },
  {
   "cell_type": "code",
   "execution_count": null,
   "metadata": {},
   "outputs": [],
   "source": [
    "#данные подготовлены, приступаем к анализу\n",
    "sns.set_style(\"darkgrid\",{'axes.labelcolor':\"k\", 'axes.edgecolor':'k', \n",
    "'xtick.color':'k'})\n",
    "sns.set_color_codes(\"muted\")\n",
    "gender_dis = sns.countplot(data.gender, x=\"gender\",  palette=['r', 'g', \n",
    "'b'] );\n",
    "gender_dis.set_title(\"gender distribution\", fontsize=20);\n",
    "gender_dis.set_xticklabels(['Men', 'Women']);"
   ]
  },
  {
   "cell_type": "code",
   "execution_count": 483,
   "metadata": {},
   "outputs": [
    {
     "data": {
      "text/plain": [
       "0    108\n",
       "1     70\n",
       "Name: gender, dtype: int64"
      ]
     },
     "execution_count": 483,
     "metadata": {},
     "output_type": "execute_result"
    }
   ],
   "source": [
    "#альтернатива\n",
    "data.gender.value_counts()"
   ]
  },
  {
   "cell_type": "code",
   "execution_count": 639,
   "metadata": {},
   "outputs": [
    {
     "data": {
      "image/png": "[encoded data removed]",
      "text/plain": [
       "<Figure size 432x288 with 1 Axes>"
      ]
     },
     "metadata": {},
     "output_type": "display_data"
    }
   ],
   "source": [
    "age_dis = sns.boxplot(x=data.gender, y=data.age_at_time_of_purchase, palette=['r', 'g', \n",
    "'b']);\n",
    "age_dis.set_xticklabels(['Men', 'Women']);\n",
    "age_dis.set_title(\"age distribution by gender\", fontsize=20);"
   ]
  },
  {
   "cell_type": "code",
   "execution_count": 706,
   "metadata": {},
   "outputs": [
    {
     "data": {
      "text/plain": [
       "<Figure size 576x576 with 0 Axes>"
      ]
     },
     "metadata": {},
     "output_type": "display_data"
    },
    {
     "data": {
      "image/png": "[encoded data removed]",
      "text/plain": [
       "<Figure size 360x360 with 1 Axes>"
      ]
     },
     "metadata": {},
     "output_type": "display_data"
    }
   ],
   "source": [
    "#или\n",
    "plt.figure(figsize=(8, 8));\n",
    "sns.catplot(x=\"gender\", y=\"age_at_time_of_purchase\", kind=\"swarm\", data=data);"
   ]
  },
  {
   "cell_type": "code",
   "execution_count": 582,
   "metadata": {},
   "outputs": [
    {
     "data": {
      "text/html": [
       "<div>\n",
       "<style scoped>\n",
       "    .dataframe tbody tr th:only-of-type {\n",
       "        vertical-align: middle;\n",
       "    }\n",
       "\n",
       "    .dataframe tbody tr th {\n",
       "        vertical-align: top;\n",
       "    }\n",
       "\n",
       "    .dataframe thead th {\n",
       "        text-align: right;\n",
       "    }\n",
       "</style>\n",
       "<table border=\"1\" class=\"dataframe\">\n",
       "  <thead>\n",
       "    <tr style=\"text-align: right;\">\n",
       "      <th></th>\n",
       "      <th>gender</th>\n",
       "      <th>age_at_time_of_purchase</th>\n",
       "    </tr>\n",
       "  </thead>\n",
       "  <tbody>\n",
       "    <tr>\n",
       "      <th>0</th>\n",
       "      <td>0</td>\n",
       "      <td>46.8</td>\n",
       "    </tr>\n",
       "    <tr>\n",
       "      <th>1</th>\n",
       "      <td>1</td>\n",
       "      <td>45.2</td>\n",
       "    </tr>\n",
       "  </tbody>\n",
       "</table>\n",
       "</div>"
      ],
      "text/plain": [
       "   gender  age_at_time_of_purchase\n",
       "0       0                     46.8\n",
       "1       1                     45.2"
      ]
     },
     "execution_count": 582,
     "metadata": {},
     "output_type": "execute_result"
    }
   ],
   "source": [
    "#неграфический анализ\n",
    "data.groupby(data.gender, as_index = False)\\\n",
    ".agg({\"age_at_time_of_purchase\":\"mean\"}).round(1)"
   ]
  },
  {
   "cell_type": "code",
   "execution_count": 589,
   "metadata": {},
   "outputs": [
    {
     "data": {
      "text/html": [
       "<div>\n",
       "<style scoped>\n",
       "    .dataframe tbody tr th:only-of-type {\n",
       "        vertical-align: middle;\n",
       "    }\n",
       "\n",
       "    .dataframe tbody tr th {\n",
       "        vertical-align: top;\n",
       "    }\n",
       "\n",
       "    .dataframe thead th {\n",
       "        text-align: right;\n",
       "    }\n",
       "</style>\n",
       "<table border=\"1\" class=\"dataframe\">\n",
       "  <thead>\n",
       "    <tr style=\"text-align: right;\">\n",
       "      <th></th>\n",
       "      <th>gender</th>\n",
       "      <th>age_at_time_of_purchase</th>\n",
       "    </tr>\n",
       "  </thead>\n",
       "  <tbody>\n",
       "    <tr>\n",
       "      <th>0</th>\n",
       "      <td>0</td>\n",
       "      <td>46.8</td>\n",
       "    </tr>\n",
       "    <tr>\n",
       "      <th>1</th>\n",
       "      <td>1</td>\n",
       "      <td>45.2</td>\n",
       "    </tr>\n",
       "  </tbody>\n",
       "</table>\n",
       "</div>"
      ],
      "text/plain": [
       "   gender  age_at_time_of_purchase\n",
       "0       0                     46.8\n",
       "1       1                     45.2"
      ]
     },
     "execution_count": 589,
     "metadata": {},
     "output_type": "execute_result"
    }
   ],
   "source": [
    "#среднее\n",
    "data.groupby(data.gender, as_index = False)\\\n",
    ".agg({\"age_at_time_of_purchase\":\"mean\"}).round(1)"
   ]
  },
  {
   "cell_type": "code",
   "execution_count": 592,
   "metadata": {},
   "outputs": [
    {
     "data": {
      "text/html": [
       "<div>\n",
       "<style scoped>\n",
       "    .dataframe tbody tr th:only-of-type {\n",
       "        vertical-align: middle;\n",
       "    }\n",
       "\n",
       "    .dataframe tbody tr th {\n",
       "        vertical-align: top;\n",
       "    }\n",
       "\n",
       "    .dataframe thead th {\n",
       "        text-align: right;\n",
       "    }\n",
       "</style>\n",
       "<table border=\"1\" class=\"dataframe\">\n",
       "  <thead>\n",
       "    <tr style=\"text-align: right;\">\n",
       "      <th></th>\n",
       "      <th>age_at_time_of_purchase</th>\n",
       "    </tr>\n",
       "  </thead>\n",
       "  <tbody>\n",
       "    <tr>\n",
       "      <th>0</th>\n",
       "      <td>46.0</td>\n",
       "    </tr>\n",
       "    <tr>\n",
       "      <th>1</th>\n",
       "      <td>43.5</td>\n",
       "    </tr>\n",
       "  </tbody>\n",
       "</table>\n",
       "</div>"
      ],
      "text/plain": [
       "   age_at_time_of_purchase\n",
       "0                     46.0\n",
       "1                     43.5"
      ]
     },
     "execution_count": 592,
     "metadata": {},
     "output_type": "execute_result"
    }
   ],
   "source": [
    "#медиана значений\n",
    "data.groupby(data.gender, as_index = False).median()[[\"age_at_time_of_purchase\"]]"
   ]
  },
  {
   "cell_type": "code",
   "execution_count": 595,
   "metadata": {},
   "outputs": [
    {
     "data": {
      "text/html": [
       "<div>\n",
       "<style scoped>\n",
       "    .dataframe tbody tr th:only-of-type {\n",
       "        vertical-align: middle;\n",
       "    }\n",
       "\n",
       "    .dataframe tbody tr th {\n",
       "        vertical-align: top;\n",
       "    }\n",
       "\n",
       "    .dataframe thead th {\n",
       "        text-align: right;\n",
       "    }\n",
       "</style>\n",
       "<table border=\"1\" class=\"dataframe\">\n",
       "  <thead>\n",
       "    <tr style=\"text-align: right;\">\n",
       "      <th></th>\n",
       "      <th>age_at_time_of_purchase</th>\n",
       "    </tr>\n",
       "  </thead>\n",
       "  <tbody>\n",
       "    <tr>\n",
       "      <th>0</th>\n",
       "      <td>12.57</td>\n",
       "    </tr>\n",
       "    <tr>\n",
       "      <th>1</th>\n",
       "      <td>13.28</td>\n",
       "    </tr>\n",
       "  </tbody>\n",
       "</table>\n",
       "</div>"
      ],
      "text/plain": [
       "   age_at_time_of_purchase\n",
       "0                    12.57\n",
       "1                    13.28"
      ]
     },
     "execution_count": 595,
     "metadata": {},
     "output_type": "execute_result"
    }
   ],
   "source": [
    "#стандартное отклонение\n",
    "data.groupby(data.gender, as_index = False).std()[[\"age_at_time_of_purchase\"]].round(2)"
   ]
  },
  {
   "cell_type": "code",
   "execution_count": 797,
   "metadata": {},
   "outputs": [
    {
     "data": {
      "text/plain": [
       "(44.27047665892852, 48.03289412758833)"
      ]
     },
     "execution_count": 797,
     "metadata": {},
     "output_type": "execute_result"
    }
   ],
   "source": [
    "#доверительный интервал 95% для возраста клиента:\n",
    "se = np.std( data['age_at_time_of_purchase'] ) / np.sqrt( len(data['age_at_time_of_purchase']) )\n",
    "confidenceCoef = stats.norm.interval( 0.95 )[1]\n",
    "(np.mean( data['age_at_time_of_purchase'] ) - confidenceCoef * se, np.mean( data['age_at_time_of_purchase'] ) + confidenceCoef * se )"
   ]
  },
  {
   "cell_type": "markdown",
   "metadata": {},
   "source": [
    "### Посмотрим на данные Contry"
   ]
  },
  {
   "cell_type": "code",
   "execution_count": 515,
   "metadata": {},
   "outputs": [
    {
     "data": {
      "text/plain": [
       "USA        157\n",
       "Canada       7\n",
       "Russia       4\n",
       "USA          3\n",
       "UK           2\n",
       "Belgium      2\n",
       "Denmark      1\n",
       "Germany      1\n",
       "Mexico       1\n",
       "Name: country, dtype: int64"
      ]
     },
     "execution_count": 515,
     "metadata": {},
     "output_type": "execute_result"
    }
   ],
   "source": [
    "data.country.value_counts()\n",
    "#несостыковка с USA, надо разобраться почему"
   ]
  },
  {
   "cell_type": "code",
   "execution_count": 517,
   "metadata": {},
   "outputs": [
    {
     "data": {
      "text/plain": [
       "array(['USA', 'UK', 'USA ', 'Belgium', 'Russia', 'Denmark', 'Germany',\n",
       "       'Mexico', 'Canada'], dtype=object)"
      ]
     },
     "execution_count": 517,
     "metadata": {},
     "output_type": "execute_result"
    }
   ],
   "source": [
    "data.country.unique()\n",
    "#потому что в некоторых значениях неудален пробел"
   ]
  },
  {
   "cell_type": "code",
   "execution_count": 519,
   "metadata": {},
   "outputs": [
    {
     "data": {
      "text/html": [
       "<div>\n",
       "<style scoped>\n",
       "    .dataframe tbody tr th:only-of-type {\n",
       "        vertical-align: middle;\n",
       "    }\n",
       "\n",
       "    .dataframe tbody tr th {\n",
       "        vertical-align: top;\n",
       "    }\n",
       "\n",
       "    .dataframe thead th {\n",
       "        text-align: right;\n",
       "    }\n",
       "</style>\n",
       "<table border=\"1\" class=\"dataframe\">\n",
       "  <thead>\n",
       "    <tr style=\"text-align: right;\">\n",
       "      <th></th>\n",
       "      <th>id</th>\n",
       "      <th>building</th>\n",
       "      <th>year_of_sale</th>\n",
       "      <th>month_of_sale</th>\n",
       "      <th>type_of_property</th>\n",
       "      <th>property_number</th>\n",
       "      <th>area(ft.)</th>\n",
       "      <th>price</th>\n",
       "      <th>status</th>\n",
       "      <th>customer_id</th>\n",
       "      <th>...</th>\n",
       "      <th>month</th>\n",
       "      <th>day</th>\n",
       "      <th>gender</th>\n",
       "      <th>country</th>\n",
       "      <th>state</th>\n",
       "      <th>purpose</th>\n",
       "      <th>deal_satisfaction</th>\n",
       "      <th>mortgage</th>\n",
       "      <th>source</th>\n",
       "      <th>full_date</th>\n",
       "    </tr>\n",
       "  </thead>\n",
       "  <tbody>\n",
       "    <tr>\n",
       "      <th>40</th>\n",
       "      <td>4005</td>\n",
       "      <td>4</td>\n",
       "      <td>2007</td>\n",
       "      <td>11</td>\n",
       "      <td>Apartment</td>\n",
       "      <td>5</td>\n",
       "      <td>1121.95</td>\n",
       "      <td>344530.89</td>\n",
       "      <td>Sold</td>\n",
       "      <td>C0142</td>\n",
       "      <td>...</td>\n",
       "      <td>5</td>\n",
       "      <td>7</td>\n",
       "      <td>1</td>\n",
       "      <td>USA</td>\n",
       "      <td>California</td>\n",
       "      <td>Home</td>\n",
       "      <td>5</td>\n",
       "      <td>0</td>\n",
       "      <td>Website</td>\n",
       "      <td>1972-05-07</td>\n",
       "    </tr>\n",
       "    <tr>\n",
       "      <th>46</th>\n",
       "      <td>4006</td>\n",
       "      <td>4</td>\n",
       "      <td>2006</td>\n",
       "      <td>7</td>\n",
       "      <td>Apartment</td>\n",
       "      <td>6</td>\n",
       "      <td>733.19</td>\n",
       "      <td>222138.72</td>\n",
       "      <td>Sold</td>\n",
       "      <td>C0150</td>\n",
       "      <td>...</td>\n",
       "      <td>6</td>\n",
       "      <td>5</td>\n",
       "      <td>0</td>\n",
       "      <td>USA</td>\n",
       "      <td>California</td>\n",
       "      <td>Home</td>\n",
       "      <td>3</td>\n",
       "      <td>0</td>\n",
       "      <td>Website</td>\n",
       "      <td>1969-06-05</td>\n",
       "    </tr>\n",
       "    <tr>\n",
       "      <th>118</th>\n",
       "      <td>2057</td>\n",
       "      <td>2</td>\n",
       "      <td>2006</td>\n",
       "      <td>9</td>\n",
       "      <td>Apartment</td>\n",
       "      <td>57</td>\n",
       "      <td>1396.86</td>\n",
       "      <td>382277.15</td>\n",
       "      <td>Sold</td>\n",
       "      <td>C0044</td>\n",
       "      <td>...</td>\n",
       "      <td>9</td>\n",
       "      <td>29</td>\n",
       "      <td>0</td>\n",
       "      <td>USA</td>\n",
       "      <td>California</td>\n",
       "      <td>Home</td>\n",
       "      <td>4</td>\n",
       "      <td>0</td>\n",
       "      <td>Agency</td>\n",
       "      <td>1954-09-29</td>\n",
       "    </tr>\n",
       "  </tbody>\n",
       "</table>\n",
       "<p>3 rows × 26 columns</p>\n",
       "</div>"
      ],
      "text/plain": [
       "       id  building  year_of_sale  month_of_sale type_of_property  \\\n",
       "40   4005         4          2007             11        Apartment   \n",
       "46   4006         4          2006              7        Apartment   \n",
       "118  2057         2          2006              9        Apartment   \n",
       "\n",
       "     property_number  area(ft.)      price  status customer_id  ... month day  \\\n",
       "40                 5    1121.95  344530.89   Sold        C0142  ...     5   7   \n",
       "46                 6     733.19  222138.72   Sold        C0150  ...     6   5   \n",
       "118               57    1396.86  382277.15   Sold        C0044  ...     9  29   \n",
       "\n",
       "    gender  country       state  purpose  deal_satisfaction  mortgage  \\\n",
       "40       1     USA   California     Home                  5         0   \n",
       "46       0     USA   California     Home                  3         0   \n",
       "118      0     USA   California     Home                  4         0   \n",
       "\n",
       "      source  full_date  \n",
       "40   Website 1972-05-07  \n",
       "46   Website 1969-06-05  \n",
       "118   Agency 1954-09-29  \n",
       "\n",
       "[3 rows x 26 columns]"
      ]
     },
     "execution_count": 519,
     "metadata": {},
     "output_type": "execute_result"
    }
   ],
   "source": [
    "#посмотрим, сколько таких значений\n",
    "data[data.country==\"USA \"]"
   ]
  },
  {
   "cell_type": "code",
   "execution_count": 523,
   "metadata": {},
   "outputs": [
    {
     "data": {
      "text/plain": [
       "array(['USA', 'UK', 'Belgium', 'Russia', 'Denmark', 'Germany', 'Mexico',\n",
       "       'Canada'], dtype=object)"
      ]
     },
     "execution_count": 523,
     "metadata": {},
     "output_type": "execute_result"
    }
   ],
   "source": [
    "#удалим\n",
    "data.country= data.country.apply(lambda x: x.strip())\n",
    "data.country.unique()"
   ]
  },
  {
   "cell_type": "code",
   "execution_count": 634,
   "metadata": {},
   "outputs": [
    {
     "data": {
      "image/png": "[encoded data removed]",
      "text/plain": [
       "<Figure size 576x576 with 1 Axes>"
      ]
     },
     "metadata": {},
     "output_type": "display_data"
    }
   ],
   "source": [
    "#посмотрим, сколько клиентов из США\n",
    "plt.figure(figsize=(8, 8))\n",
    "country_dis = sns.countplot(data.country==\"USA\",  palette=['r', 'g', \n",
    "'b'] );\n",
    "country_dis.set_title(\"country distribution\");\n",
    "country_dis.set_xticklabels(['not USA', \"USA\"]);\n",
    "country_dis.set_title(\"country distribution\", fontsize=20);"
   ]
  },
  {
   "cell_type": "code",
   "execution_count": 644,
   "metadata": {},
   "outputs": [
    {
     "data": {
      "image/png": "[encoded data removed]",
      "text/plain": [
       "<Figure size 576x576 with 1 Axes>"
      ]
     },
     "metadata": {},
     "output_type": "display_data"
    }
   ],
   "source": [
    "#какой штат превосходит по численности\n",
    "plt.figure(figsize=(8, 8))\n",
    "country_dis2 = sns.countplot(data[data.country==\"USA\"][\"state\"],  palette=['r', 'g', \n",
    "'b'] );\n",
    "country_dis2.set_title(\"State distribution\", fontsize=20);"
   ]
  },
  {
   "cell_type": "markdown",
   "metadata": {},
   "source": [
    "### Распределение сделок в зависимости от года и месяца"
   ]
  },
  {
   "cell_type": "code",
   "execution_count": 550,
   "metadata": {},
   "outputs": [
    {
     "data": {
      "text/plain": [
       "2007    102\n",
       "2006     39\n",
       "2005     15\n",
       "2004     12\n",
       "2008      9\n",
       "2010      1\n",
       "Name: year_of_sale, dtype: int64"
      ]
     },
     "execution_count": 550,
     "metadata": {},
     "output_type": "execute_result"
    }
   ],
   "source": [
    "#посмотрим, какой год оказался максимально продуктивным на продажи\n",
    "data.year_of_sale.value_counts()"
   ]
  },
  {
   "cell_type": "code",
   "execution_count": 569,
   "metadata": {},
   "outputs": [
    {
     "data": {
      "image/png": "[encoded data removed]",
      "text/plain": [
       "<Figure size 360x360 with 1 Axes>"
      ]
     },
     "metadata": {},
     "output_type": "display_data"
    }
   ],
   "source": [
    "year_dis = sns.displot(data.year_of_sale, color='r', kde=False)\n",
    "plt.title(\"year distribution\", fontsize=20);"
   ]
  },
  {
   "cell_type": "code",
   "execution_count": 563,
   "metadata": {},
   "outputs": [
    {
     "data": {
      "text/plain": [
       "11    25\n",
       "3     22\n",
       "10    18\n",
       "12    18\n",
       "8     18\n",
       "6     15\n",
       "9     14\n",
       "4     13\n",
       "5     11\n",
       "7      8\n",
       "1      8\n",
       "2      8\n",
       "Name: month_of_sale, dtype: int64"
      ]
     },
     "execution_count": 563,
     "metadata": {},
     "output_type": "execute_result"
    }
   ],
   "source": [
    "#посмотрим, какой месяц самый продуктивный на продажи\n",
    "data.month_of_sale.value_counts()"
   ]
  },
  {
   "cell_type": "code",
   "execution_count": 633,
   "metadata": {},
   "outputs": [
    {
     "data": {
      "text/plain": [
       "<Figure size 576x576 with 0 Axes>"
      ]
     },
     "metadata": {},
     "output_type": "display_data"
    },
    {
     "data": {
      "image/png": "[encoded data removed]",
      "text/plain": [
       "<Figure size 360x360 with 1 Axes>"
      ]
     },
     "metadata": {},
     "output_type": "display_data"
    }
   ],
   "source": [
    "plt.figure(figsize=(8, 8));\n",
    "month_dis = sns.displot(data.month_of_sale, color='g', kde=False,  bins=12);\n",
    "plt.title(\"month distribution\", fontsize=20);"
   ]
  },
  {
   "cell_type": "markdown",
   "metadata": {},
   "source": [
    "### Анализ цен на недвижимость"
   ]
  },
  {
   "cell_type": "code",
   "execution_count": 800,
   "metadata": {},
   "outputs": [
    {
     "data": {
      "text/plain": [
       "count       178.000000\n",
       "mean     270965.425730\n",
       "std       78525.152444\n",
       "min      153466.710000\n",
       "25%      214826.330000\n",
       "50%      245196.730000\n",
       "75%      309387.082500\n",
       "max      503790.230000\n",
       "Name: price, dtype: float64"
      ]
     },
     "execution_count": 800,
     "metadata": {},
     "output_type": "execute_result"
    }
   ],
   "source": [
    "#анализ цен\n",
    "data.price.describe()"
   ]
  },
  {
   "cell_type": "code",
   "execution_count": 792,
   "metadata": {},
   "outputs": [
    {
     "data": {
      "text/plain": [
       "(259462.09754862296, 282468.75391205156)"
      ]
     },
     "execution_count": 792,
     "metadata": {},
     "output_type": "execute_result"
    }
   ],
   "source": [
    "#доверительный интервал 95%:\n",
    "se = np.std( data['price'] ) / np.sqrt( len(data['price']))\n",
    "confidenceCoef = stats.norm.interval( 0.95 )[1]\n",
    "(np.mean( data['price'] ) - confidenceCoef * se, np.mean( data['price'] ) + confidenceCoef * se )"
   ]
  },
  {
   "cell_type": "code",
   "execution_count": 641,
   "metadata": {},
   "outputs": [
    {
     "data": {
      "image/png": "[encoded data removed]",
      "text/plain": [
       "<Figure size 576x576 with 1 Axes>"
      ]
     },
     "metadata": {},
     "output_type": "display_data"
    }
   ],
   "source": [
    "plt.figure(figsize=(8, 8))\n",
    "price_dis = sns.violinplot(y=\"price\", data=data, color='r');\n",
    "plt.title(\"price distribution\", fontsize=20);\n",
    "price_dis.set_xticklabels([\"count\"]);"
   ]
  },
  {
   "cell_type": "code",
   "execution_count": 640,
   "metadata": {},
   "outputs": [
    {
     "data": {
      "image/png": "[encoded data removed]",
      "text/plain": [
       "<Figure size 576x576 with 1 Axes>"
      ]
     },
     "metadata": {},
     "output_type": "display_data"
    }
   ],
   "source": [
    "plt.figure(figsize=(8, 8))\n",
    "price_dis = sns.violinplot(y=\"area(ft.)\", data=data, color='g');\n",
    "plt.title(\"price distribution\", fontsize=20);\n",
    "price_dis.set_xticklabels([\"count\"]);"
   ]
  },
  {
   "cell_type": "code",
   "execution_count": 796,
   "metadata": {},
   "outputs": [
    {
     "data": {
      "text/plain": [
       "(867.0107776876068, 943.0064133236297)"
      ]
     },
     "execution_count": 796,
     "metadata": {},
     "output_type": "execute_result"
    }
   ],
   "source": [
    "#доверительный интервал 95%:\n",
    "se = np.std( data['area(ft.)'] ) / np.sqrt( len(data['area(ft.)']))\n",
    "confidenceCoef = stats.norm.interval( 0.95 )[1]\n",
    "(np.mean( data['area(ft.)'] ) - confidenceCoef * se, np.mean( data['area(ft.)'] ) + confidenceCoef * se )\n"
   ]
  },
  {
   "cell_type": "code",
   "execution_count": 631,
   "metadata": {},
   "outputs": [
    {
     "data": {
      "image/png": "[encoded data removed]",
      "text/plain": [
       "<Figure size 576x576 with 1 Axes>"
      ]
     },
     "metadata": {},
     "output_type": "display_data"
    }
   ],
   "source": [
    "plt.figure(figsize=(8, 8))\n",
    "sns.scatterplot(x='price', y='area(ft.)', data=data, color='g');\n",
    "plt.xlabel(\"price\", fontsize=14);\n",
    "plt.ylabel(\"area\", fontsize=14);\n",
    "plt.title(\"dependence of prices on the area covered\", fontsize=20);"
   ]
  },
  {
   "cell_type": "code",
   "execution_count": 627,
   "metadata": {},
   "outputs": [
    {
     "data": {
      "text/html": [
       "<div>\n",
       "<style scoped>\n",
       "    .dataframe tbody tr th:only-of-type {\n",
       "        vertical-align: middle;\n",
       "    }\n",
       "\n",
       "    .dataframe tbody tr th {\n",
       "        vertical-align: top;\n",
       "    }\n",
       "\n",
       "    .dataframe thead th {\n",
       "        text-align: right;\n",
       "    }\n",
       "</style>\n",
       "<table border=\"1\" class=\"dataframe\">\n",
       "  <thead>\n",
       "    <tr style=\"text-align: right;\">\n",
       "      <th></th>\n",
       "      <th>area(ft.)</th>\n",
       "      <th>price</th>\n",
       "    </tr>\n",
       "  </thead>\n",
       "  <tbody>\n",
       "    <tr>\n",
       "      <th>area(ft.)</th>\n",
       "      <td>1.000000</td>\n",
       "      <td>0.938883</td>\n",
       "    </tr>\n",
       "    <tr>\n",
       "      <th>price</th>\n",
       "      <td>0.938883</td>\n",
       "      <td>1.000000</td>\n",
       "    </tr>\n",
       "  </tbody>\n",
       "</table>\n",
       "</div>"
      ],
      "text/plain": [
       "           area(ft.)     price\n",
       "area(ft.)   1.000000  0.938883\n",
       "price       0.938883  1.000000"
      ]
     },
     "execution_count": 627,
     "metadata": {},
     "output_type": "execute_result"
    }
   ],
   "source": [
    "#корреляция\n",
    "data[[\"area(ft.)\", 'price']].corr()"
   ]
  },
  {
   "cell_type": "code",
   "execution_count": 754,
   "metadata": {},
   "outputs": [
    {
     "data": {
      "image/png": "[encoded data removed]",
      "text/plain": [
       "<Figure size 576x576 with 1 Axes>"
      ]
     },
     "metadata": {},
     "output_type": "display_data"
    }
   ],
   "source": [
    "#насколько клиенты удовлетворены сделкой\n",
    "plt.figure(figsize=(8, 8))\n",
    "year_dis = sns.kdeplot(data.deal_satisfaction, color='r', shade = True)\n",
    "plt.title(\"Deal satisfaction\", fontsize=20);"
   ]
  },
  {
   "cell_type": "code",
   "execution_count": 799,
   "metadata": {},
   "outputs": [
    {
     "data": {
      "text/plain": [
       "5    59\n",
       "3    38\n",
       "4    38\n",
       "2    25\n",
       "1    18\n",
       "Name: deal_satisfaction, dtype: int64"
      ]
     },
     "execution_count": 799,
     "metadata": {},
     "output_type": "execute_result"
    }
   ],
   "source": [
    "data.deal_satisfaction.value_counts()"
   ]
  },
  {
   "cell_type": "code",
   "execution_count": 701,
   "metadata": {},
   "outputs": [
    {
     "data": {
      "image/png": "[encoded data removed]",
      "text/plain": [
       "<Figure size 576x576 with 1 Axes>"
      ]
     },
     "metadata": {},
     "output_type": "display_data"
    }
   ],
   "source": [
    "plt.figure(figsize=(8, 8))\n",
    "data.mortgage.value_counts().plot(kind=\"pie\", autopct=\"%1.0f%%\", colors = [\"r\", \"g\"]);\n",
    "plt.title(\"Mortgage\", fontsize=20);\n",
    "#только в 32% случаях клиентыпользовались ипотекой"
   ]
  },
  {
   "cell_type": "code",
   "execution_count": 724,
   "metadata": {},
   "outputs": [
    {
     "data": {
      "image/png": "[encoded data removed]",
      "text/plain": [
       "<Figure size 576x576 with 1 Axes>"
      ]
     },
     "metadata": {},
     "output_type": "display_data"
    }
   ],
   "source": [
    "plt.figure(figsize=(8, 8))\n",
    "data.purpose.value_counts().plot(kind=\"pie\", autopct=\"%1.0f%%\", colors = [\"r\", \"b\"]);\n",
    "plt.title(\"Purpose\", fontsize=20);\n",
    "#только в 32% случаях клиентыпользовались ипотекой"
   ]
  },
  {
   "cell_type": "code",
   "execution_count": 716,
   "metadata": {},
   "outputs": [
    {
     "data": {
      "text/html": [
       "<div>\n",
       "<style scoped>\n",
       "    .dataframe tbody tr th:only-of-type {\n",
       "        vertical-align: middle;\n",
       "    }\n",
       "\n",
       "    .dataframe tbody tr th {\n",
       "        vertical-align: top;\n",
       "    }\n",
       "\n",
       "    .dataframe thead th {\n",
       "        text-align: right;\n",
       "    }\n",
       "</style>\n",
       "<table border=\"1\" class=\"dataframe\">\n",
       "  <thead>\n",
       "    <tr style=\"text-align: right;\">\n",
       "      <th></th>\n",
       "      <th>purpose</th>\n",
       "      <th>mortgage</th>\n",
       "    </tr>\n",
       "  </thead>\n",
       "  <tbody>\n",
       "    <tr>\n",
       "      <th>0</th>\n",
       "      <td>Home</td>\n",
       "      <td>118</td>\n",
       "    </tr>\n",
       "    <tr>\n",
       "      <th>1</th>\n",
       "      <td>Investment</td>\n",
       "      <td>60</td>\n",
       "    </tr>\n",
       "  </tbody>\n",
       "</table>\n",
       "</div>"
      ],
      "text/plain": [
       "      purpose  mortgage\n",
       "0        Home       118\n",
       "1  Investment        60"
      ]
     },
     "execution_count": 716,
     "metadata": {},
     "output_type": "execute_result"
    }
   ],
   "source": [
    "data.groupby(\"purpose\", as_index=False).aggregate({\"mortgage\":'count'})\n",
    "# в большинстве клиент искал недвижимость для личного пользования"
   ]
  },
  {
   "cell_type": "code",
   "execution_count": 725,
   "metadata": {},
   "outputs": [
    {
     "data": {
      "text/html": [
       "<div>\n",
       "<style scoped>\n",
       "    .dataframe tbody tr th:only-of-type {\n",
       "        vertical-align: middle;\n",
       "    }\n",
       "\n",
       "    .dataframe tbody tr th {\n",
       "        vertical-align: top;\n",
       "    }\n",
       "\n",
       "    .dataframe thead th {\n",
       "        text-align: right;\n",
       "    }\n",
       "</style>\n",
       "<table border=\"1\" class=\"dataframe\">\n",
       "  <thead>\n",
       "    <tr style=\"text-align: right;\">\n",
       "      <th>mortgage</th>\n",
       "      <th>0</th>\n",
       "      <th>1</th>\n",
       "    </tr>\n",
       "    <tr>\n",
       "      <th>purpose</th>\n",
       "      <th></th>\n",
       "      <th></th>\n",
       "    </tr>\n",
       "  </thead>\n",
       "  <tbody>\n",
       "    <tr>\n",
       "      <th>Home</th>\n",
       "      <td>72</td>\n",
       "      <td>46</td>\n",
       "    </tr>\n",
       "    <tr>\n",
       "      <th>Investment</th>\n",
       "      <td>49</td>\n",
       "      <td>11</td>\n",
       "    </tr>\n",
       "  </tbody>\n",
       "</table>\n",
       "</div>"
      ],
      "text/plain": [
       "mortgage     0   1\n",
       "purpose           \n",
       "Home        72  46\n",
       "Investment  49  11"
      ]
     },
     "execution_count": 725,
     "metadata": {},
     "output_type": "execute_result"
    }
   ],
   "source": [
    "#исходя из 2 вышеприведенных диаграмм, сложилось впечатление,что возможно для инвестирования люди и использовали ипотеку. Проверим:\n",
    "pd.crosstab(data.purpose, data.mortgage)\n",
    "#нет, в основном кредит брали для приобретения собственной жилплощади"
   ]
  },
  {
   "cell_type": "code",
   "execution_count": 723,
   "metadata": {},
   "outputs": [
    {
     "data": {
      "image/png": "[encoded data removed]",
      "text/plain": [
       "<Figure size 576x576 with 1 Axes>"
      ]
     },
     "metadata": {},
     "output_type": "display_data"
    }
   ],
   "source": [
    "plt.figure(figsize=(8, 8))\n",
    "source_dis = sns.countplot(data.source,  palette=['r', 'g', \n",
    "'b'] );\n",
    "source_dis.set_title(\"Source distribution\", fontsize=20);\n",
    "#большинтсво клиентов нашли предложение через вебсайт"
   ]
  },
  {
   "cell_type": "markdown",
   "metadata": {},
   "source": [
    "# Вывод"
   ]
  },
  {
   "cell_type": "markdown",
   "metadata": {},
   "source": [
    "   #### Приблизительный портрет клиента: Мужчина среднего возраста 44-48 лет  , из США штата Калифорния, который в среднем тратит на сделку 260.000-282.000 $  и ищет недвижимость для личного пользования площадью 867-943 фута , редко пользуется ипотекой, находит недвижимость через вебсайт, и в основном доволен пройденой сделкой. Наиболее частоиспользуемый месяц для продажи - ноябрь. Максимальный год по продажам: 2007."
   ]
  }
 ],
 "metadata": {
  "kernelspec": {
   "display_name": "Python 3 (ipykernel)",
   "language": "python",
   "name": "python3"
  },
  "language_info": {
   "codemirror_mode": {
    "name": "ipython",
    "version": 3
   },
   "file_extension": ".py",
   "mimetype": "text/x-python",
   "name": "python",
   "nbconvert_exporter": "python",
   "pygments_lexer": "ipython3",
   "version": "3.9.12"
  }
 },
 "nbformat": 4,
 "nbformat_minor": 1
}
